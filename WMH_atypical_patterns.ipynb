{
 "cells": [
  {
   "cell_type": "markdown",
   "id": "4aca1930-9823-4d8b-b013-2233d23d8c1f",
   "metadata": {},
   "source": [
    "# Identification of atypical WMH patterns\n",
    "\n",
    "This notebook can be used to identify atypical WMH patterns, based on a N=3525 multicentre memory clinic cohort."
   ]
  },
  {
   "cell_type": "code",
   "execution_count": 23,
   "id": "9dd9ee7c-a055-4fd5-96d7-c45fb08fe594",
   "metadata": {},
   "outputs": [],
   "source": [
    "import numpy as np\n",
    "import os\n",
    "import pandas\n",
    "import SimpleITK as sitk\n",
    "from sklearn.neighbors import LocalOutlierFactor\n",
    "import skops.io as sio\n",
    "from tqdm.contrib import tenumerate"
   ]
  },
  {
   "cell_type": "markdown",
   "id": "623dcc2a-dd20-4d4e-b1b7-287bcc155c95",
   "metadata": {},
   "source": [
    "## Parameters\n",
    "\n",
    "All relevant parameters for this script can be set in the box below, related to either the input, settings, or output.\n",
    "\n",
    "### Input \n",
    "\n",
    "- **dir_lesion:** the directory that contains the binary lesion maps per subject\n",
    "- **design_document:** spreadsheet containing two or more columns: *first column:* name of the lesion map for every subject (should exist in dir_lesion or a subfolder (see below)); *second column:* continuous output variable, e.g. a Z-score on a specific domain; *optionally* more columns with additional output variables\n",
    "- **lesion_prevalence_filename:** file that contains the lesion prevalence map for this dataset. Can be downloaded from: https://doi.org/10.34894/FYL9ID "
   ]
  },
  {
   "cell_type": "code",
   "execution_count": 5,
   "id": "6fec31f2-c259-4134-8d0b-efec4b4892d7",
   "metadata": {},
   "outputs": [],
   "source": [
    "dir_lesion = r\"\"\n",
    "design_document = r\"\"\n",
    "\n",
    "lesion_prevalence_filename = r\"metavcimap_memory_clinic_n3525_mni_space.nii.gz\""
   ]
  },
  {
   "cell_type": "code",
   "execution_count": 12,
   "id": "87246c0f-da9c-4ed2-9af5-976d3b394cd4",
   "metadata": {},
   "outputs": [
    {
     "data": {
      "application/vnd.jupyter.widget-view+json": {
       "model_id": "7ca26bb3821b4de690e9ea3395a1bb5b",
       "version_major": 2,
       "version_minor": 0
      },
      "text/plain": [
       "  0%|          | 0/3525 [00:00<?, ?it/s]"
      ]
     },
     "metadata": {},
     "output_type": "display_data"
    }
   ],
   "source": [
    "df = pandas.read_excel(design_document, header=None)\n",
    "\n",
    "# Initialize lesion matrix\n",
    "nii = sitk.ReadImage(os.path.join(dir_lesion, df[0][0]))\n",
    "\n",
    "raw_lesion_matrix = np.zeros((len(df.index), sitk.GetArrayViewFromImage(nii).size), np.int8)\n",
    "for i, lesion_filename in tenumerate(df[0]):\n",
    "    nii = sitk.ReadImage(os.path.join(dir_lesion, lesion_filename))\n",
    "    raw_lesion_matrix[i] = sitk.GetArrayViewFromImage(nii).ravel()"
   ]
  },
  {
   "cell_type": "code",
   "execution_count": 14,
   "id": "b9773bda-7665-4662-ac53-c034fe0abfde",
   "metadata": {},
   "outputs": [],
   "source": [
    "lesion_prevalence = sitk.GetArrayFromImage(sitk.ReadImage(lesion_prevalence_filename)).ravel()\n",
    "lesion_prevalence_mask = lesion_prevalence > 0"
   ]
  },
  {
   "cell_type": "code",
   "execution_count": 15,
   "id": "adf7fa93-7222-4c9e-9b69-2406a3772e71",
   "metadata": {},
   "outputs": [],
   "source": [
    "clf = LocalOutlierFactor(n_neighbors=20, contamination=0.001)\n",
    "y_pred = clf.fit_predict(raw_lesion_matrix[:,lesion_prevalence_mask])"
   ]
  },
  {
   "cell_type": "code",
   "execution_count": 16,
   "id": "28c2476a-5f0f-4f61-94df-7c702b4aa9dc",
   "metadata": {},
   "outputs": [],
   "source": [
    "# The LOF score is saved in negative_outlier_factor_, where lower (more negative) scores indicate outliers.\n",
    "# These results are used in our paper.\n",
    "df['negative_outlier_factor'] = clf.negative_outlier_factor_"
   ]
  },
  {
   "cell_type": "markdown",
   "id": "cbdd8fab-7145-4b0d-a0ae-ff42a6d33755",
   "metadata": {},
   "source": [
    "## Novelty detection\n",
    "\n",
    "LOF can be trained as a novelty detection method. According to the documentation, this will give slightly different results. Therefore we train this separately. \n",
    "\n",
    "The resulting novelty detection method is published together with this notebook on: https://doi.org/10.34894/FYL9ID . Download it there, so it can be applied to new unseen data; and used by other researchers."
   ]
  },
  {
   "cell_type": "code",
   "execution_count": 18,
   "id": "bdf80abe-e01d-4300-bf75-af9fdf383476",
   "metadata": {},
   "outputs": [
    {
     "data": {
      "text/plain": [
       "LocalOutlierFactor(contamination=0.001, novelty=True)"
      ]
     },
     "execution_count": 18,
     "metadata": {},
     "output_type": "execute_result"
    }
   ],
   "source": [
    "novelty_clf = LocalOutlierFactor(n_neighbors=20, contamination=0.001, novelty=True)\n",
    "novelty_clf.fit(raw_lesion_matrix[:,lesion_prevalence_mask])"
   ]
  },
  {
   "cell_type": "code",
   "execution_count": 25,
   "id": "f4664403-0895-4d1d-9530-c9aaded9913b",
   "metadata": {},
   "outputs": [],
   "source": [
    "# Save the model\n",
    "sio.dump(novelty_clf, \"wmh_atypical_patterns_model.sav\")"
   ]
  },
  {
   "cell_type": "markdown",
   "id": "a6e6a1c9-4dcd-40ff-896a-bc48cda58938",
   "metadata": {},
   "source": [
    "## Using the trained novelty detection\n",
    "\n",
    "From this point in the code, you can use the trained novelty detection method on your own data. The WMH segmentation map must be in MNI space."
   ]
  },
  {
   "cell_type": "code",
   "execution_count": 26,
   "id": "5a7b22f3-254b-4991-98b5-17b455742b88",
   "metadata": {},
   "outputs": [],
   "source": [
    "novelty_clf = sio.load(\"wmh_atypical_patterns_model.sav\", trusted=True)"
   ]
  },
  {
   "cell_type": "code",
   "execution_count": null,
   "id": "e417e1c5-e5d2-4857-9695-3e4f2b684f60",
   "metadata": {},
   "outputs": [],
   "source": [
    "unseen_nii = sitk.ReadImage(\"filename.nii\")\n",
    "unseen_matrix = sitk.GetArrayViewFromImage(unseen_nii).ravel()\n",
    "\n",
    "score = novelty_clf.score_samples([unseen_matrix[lesion_prevalence_mask]])"
   ]
  },
  {
   "cell_type": "code",
   "execution_count": null,
   "id": "866f83d4-d77c-43fb-832b-348b5ea29b08",
   "metadata": {},
   "outputs": [],
   "source": [
    "# The following data member holds all LOF scores from the training data. You can use this to compare your subject against\n",
    "\n",
    "novelty_clf.negative_outlier_factor_\n",
    "\n",
    "print(\"Your patient has a LOF score of: %.3f\" % score[0])\n",
    "print(\"When comparing your patient to our N=3525 memory clinic patients:\")\n",
    "print(\"  %.1f\" % float(np.sum(novelty_clf.negative_outlier_factor_  < score[0]) / 3525 * 100), \" percent are more atypical (have a lower score)\")\n",
    "print(\"  %.1f\" % float(np.sum(novelty_clf.negative_outlier_factor_ >= score[0]) / 3525 * 100), \" percent are more typical (have a higher score)\")"
   ]
  }
 ],
 "metadata": {
  "kernelspec": {
   "display_name": "Python 3 (ipykernel)",
   "language": "python",
   "name": "python3"
  },
  "language_info": {
   "codemirror_mode": {
    "name": "ipython",
    "version": 3
   },
   "file_extension": ".py",
   "mimetype": "text/x-python",
   "name": "python",
   "nbconvert_exporter": "python",
   "pygments_lexer": "ipython3",
   "version": "3.9.7"
  }
 },
 "nbformat": 4,
 "nbformat_minor": 5
}
