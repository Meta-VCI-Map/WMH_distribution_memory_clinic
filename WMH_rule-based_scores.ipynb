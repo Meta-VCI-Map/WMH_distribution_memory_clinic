{
 "cells": [
  {
   "cell_type": "markdown",
   "id": "7309abc0-ca8a-43ef-a4fd-ca7c6a1c97ef",
   "metadata": {},
   "source": [
    "# Rule-based scores for unusual WMH distribution frequencies\n",
    "\n",
    "This notebook implements rule-based scores that aim to identify participants with unusual WMH distribution frequencies, based on a N=3525 multicentre memory clinic cohort."
   ]
  },
  {
   "cell_type": "code",
   "execution_count": null,
   "id": "1cec3d1b-e58f-4905-bdde-63c310f23cac",
   "metadata": {
    "tags": []
   },
   "outputs": [],
   "source": [
    "import numpy as np\n",
    "import scipy\n",
    "import SimpleITK as sitk"
   ]
  },
  {
   "cell_type": "markdown",
   "id": "89c3ad59-931b-4160-8221-cd04a77efd3b",
   "metadata": {},
   "source": [
    "## Parameters\n",
    "\n",
    "All relevant parameters for this script can be set in the box below, related to either the input, settings, or output.\n",
    "\n",
    "### Input \n",
    "\n",
    "- **lesion_prevalence_filename:** file that contains the lesion prevalence map for this dataset. Can be downloaded from: https://doi.org/10.34894/FYL9ID "
   ]
  },
  {
   "cell_type": "code",
   "execution_count": null,
   "id": "46a6b463-adaf-422a-a9df-d2dc2163128f",
   "metadata": {
    "tags": []
   },
   "outputs": [],
   "source": [
    "lesion_prevalence_filename = r\"metavcimap_memory_clinic_n3525_mni_space.nii.gz\""
   ]
  },
  {
   "cell_type": "code",
   "execution_count": null,
   "id": "97ac3fa4-9792-42b8-b933-2ec9cc019e88",
   "metadata": {
    "tags": []
   },
   "outputs": [],
   "source": [
    "N = 3525\n",
    "lesion_prevalence = sitk.GetArrayFromImage(sitk.ReadImage(lesion_prevalence_filename)).ravel()"
   ]
  },
  {
   "cell_type": "code",
   "execution_count": null,
   "id": "6b36b73b-0469-48af-bfda-0c8ddc53e166",
   "metadata": {
    "tags": []
   },
   "outputs": [],
   "source": [
    "lesion_prevalence_image = sitk.ReadImage(lesion_prevalence_filename)\n",
    "lesion_prevalence_array = sitk.GetArrayFromImage(lesion_prevalence_image)\n",
    "\n",
    "lesion_prevalence_probabilities = lesion_prevalence_array / N\n",
    "lesion_prevalence_probabilities_inverted = 1-lesion_prevalence_probabilities"
   ]
  },
  {
   "cell_type": "markdown",
   "id": "c42ddf49-7edf-41c6-b13e-cf57b24d0c9c",
   "metadata": {},
   "source": [
    "## Score 1\n",
    "The first rule-based score (RB Score 1) was derived from WMH distribution frequencies, assigning a high score to participants having WMH voxels in low-probability regions based on the probability distribution of the whole cohort. It was calculated as 1 – the probability of a lesion in a certain voxel, and this was summed up for all voxels. The score was individually adjusted for total normalized WMH volume, by dividing the score with the square root of the total normalized WMH volume per participant."
   ]
  },
  {
   "cell_type": "code",
   "execution_count": null,
   "id": "4d969c35-c126-44ee-b2c1-fe1620a7356c",
   "metadata": {
    "tags": []
   },
   "outputs": [],
   "source": [
    "def score1(patientXArray):\n",
    "    score = np.sum(lesion_prevalence_probabilities_inverted * patientXArray)\n",
    "\n",
    "    #volumeCorrection = 1                             # = no volume correction\n",
    "    volumeCorrection = np.sqrt(np.sum(patientXArray)) # = divide by sqrt lesion volume\n",
    "\n",
    "    return score / volumeCorrection"
   ]
  },
  {
   "cell_type": "markdown",
   "id": "70102a5e-b3df-4ad1-b9ab-63a0b7cd82fc",
   "metadata": {},
   "source": [
    "## Score 2\n",
    "The second rule-based score (RB Score 2) assigned a high score to lesions (of at least ten voxels in size) at locations where less than five participants had a lesion. It was implemented by assessing only lesions at locations where less than five participants in the dataset had a lesion by masking out all other locations, and computing the sum of 1 – the probability of a lesion in a certain voxel for all remaining voxels. The score was individually adjusted for total normalized WMH volume, by dividing the score with the square root of the total normalized WMH volume per participant. "
   ]
  },
  {
   "cell_type": "code",
   "execution_count": null,
   "id": "f55920a0-c94b-42e4-839f-20c1034222ed",
   "metadata": {
    "tags": []
   },
   "outputs": [],
   "source": [
    "def score2(patientXArray):  \n",
    "    label, num_features = scipy.ndimage.label(patientXArray, np.ones((3,3,3)))\n",
    "    try:\n",
    "        perLesionSize = scipy.ndimage.labeled_comprehension(lesion_prevalence_probabilities_inverted, label, range(1, num_features+1), np.count_nonzero, np.float64, 0)\n",
    "        perLesionScore = scipy.ndimage.labeled_comprehension(lesion_prevalence_probabilities_inverted * (lesion_prevalence_probabilities_inverted > (1 - 5/N)), label, range(1, num_features+1), np.sum, np.float64, 0)\n",
    "\n",
    "        #volumeCorrection = 1                             # = no volume correction\n",
    "        volumeCorrection = np.sqrt(np.sum(patientXArray)) # = divide by sqrt lesion volume\n",
    "\n",
    "        return np.sum(perLesionScore[perLesionSize >= 10]) / volumeCorrection\n",
    "    except:\n",
    "        return -1"
   ]
  },
  {
   "cell_type": "code",
   "execution_count": null,
   "id": "25eac89f-0fb7-4abc-a251-0159201d08cd",
   "metadata": {
    "tags": []
   },
   "outputs": [],
   "source": [
    "unseen_nii = sitk.ReadImage(\"filename.nii\")\n",
    "unseen_matrix = sitk.GetArrayViewFromImage(unseen_nii)\n",
    "\n",
    "print(\"Score 1\", score1(unseen_matrix))\n",
    "print(\"Score 2\", score2(unseen_matrix))"
   ]
  }
 ],
 "metadata": {
  "kernelspec": {
   "display_name": "Python 3 (ipykernel)",
   "language": "python",
   "name": "python3"
  },
  "language_info": {
   "codemirror_mode": {
    "name": "ipython",
    "version": 3
   },
   "file_extension": ".py",
   "mimetype": "text/x-python",
   "name": "python",
   "nbconvert_exporter": "python",
   "pygments_lexer": "ipython3",
   "version": "3.10.10"
  }
 },
 "nbformat": 4,
 "nbformat_minor": 5
}
